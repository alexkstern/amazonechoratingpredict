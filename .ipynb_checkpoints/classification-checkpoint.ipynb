{
 "cells": [
  {
   "cell_type": "markdown",
   "id": "7d1b8a5a",
   "metadata": {},
   "source": [
    "# Classification model"
   ]
  },
  {
   "cell_type": "markdown",
   "id": "e67eebde",
   "metadata": {},
   "source": [
    "In this notebook, we chose to to apply classification instead of regression to see if there are any performance improvements. We will only use the openai embeddings as these embeddings performed the best for regression. "
   ]
  },
  {
   "cell_type": "code",
   "execution_count": 6,
   "id": "6c7ae431",
   "metadata": {},
   "outputs": [],
   "source": [
    "import pandas as pd\n",
    "import numpy as np\n",
    "from sklearn.model_selection import train_test_split\n",
    "from sklearn.ensemble import RandomForestClassifier\n",
    "from sklearn.metrics import accuracy_score, classification_report, confusion_matrix"
   ]
  },
  {
   "cell_type": "code",
   "execution_count": 7,
   "id": "e123e7a2",
   "metadata": {},
   "outputs": [
    {
     "data": {
      "text/plain": [
       "0       [0.006420237943530083, -0.0034434357658028603,...\n",
       "1       [-0.013516747392714024, 0.013427401892840862, ...\n",
       "2       [-0.005110813304781914, -0.0019843303598463535...\n",
       "3       [-0.01380288228392601, -0.006777149625122547, ...\n",
       "4       [0.0034719263203442097, -0.005105964373797178,...\n",
       "                              ...                        \n",
       "4995    [-0.01762218214571476, 0.0030267485417425632, ...\n",
       "4996    [0.012827948667109013, 0.007280903868377209, 0...\n",
       "4997    [-0.003466191468760371, -0.005143802147358656,...\n",
       "4998    [-0.010686701163649559, -0.004436171147972345,...\n",
       "4999    [-0.008222557604312897, 0.00519371684640646, 0...\n",
       "Name: ada_embedding, Length: 5000, dtype: object"
      ]
     },
     "execution_count": 7,
     "metadata": {},
     "output_type": "execute_result"
    }
   ],
   "source": [
    "df_sample=pd.read_csv('embeddings\\sample_embed_reviews.csv')\n",
    "df_sample['ada_embedding']"
   ]
  },
  {
   "cell_type": "code",
   "execution_count": 8,
   "id": "ad670bd2",
   "metadata": {},
   "outputs": [
    {
     "name": "stdout",
     "output_type": "stream",
     "text": [
      "<class 'numpy.ndarray'>\n"
     ]
    }
   ],
   "source": [
    "import numpy as np\n",
    "\n",
    "# Convert string representations to actual lists\n",
    "df_sample['ada_embedding'] = df_sample['ada_embedding'].apply(eval)\n",
    "\n",
    "# Convert lists to numpy arrays\n",
    "df_sample['ada_embedding'] = df_sample['ada_embedding'].apply(np.array)\n",
    "\n",
    "# Check the type of the first element\n",
    "print(type(df_sample['ada_embedding'][0]))\n"
   ]
  },
  {
   "cell_type": "code",
   "execution_count": 9,
   "id": "cd7578d3",
   "metadata": {},
   "outputs": [
    {
     "data": {
      "text/plain": [
       "1536"
      ]
     },
     "execution_count": 9,
     "metadata": {},
     "output_type": "execute_result"
    }
   ],
   "source": [
    "len(df_sample['ada_embedding'][0])"
   ]
  },
  {
   "cell_type": "code",
   "execution_count": 10,
   "id": "570799ab",
   "metadata": {},
   "outputs": [],
   "source": [
    "# Convert embeddings from 'ada_embedding' column into a matrix\n",
    "X = pd.DataFrame(df_sample['ada_embedding'].tolist())\n",
    "\n",
    "# Ratings will be our target variable\n",
    "y = df_sample['Rating out of 5']\n",
    "\n",
    "# Split data into training and testing sets (80% train, 20% test)\n",
    "X_train, X_test, y_train, y_test = train_test_split(X, y, test_size=0.2, random_state=42)\n"
   ]
  },
  {
   "cell_type": "code",
   "execution_count": 11,
   "id": "f7c7dca3",
   "metadata": {},
   "outputs": [
    {
     "name": "stdout",
     "output_type": "stream",
     "text": [
      "Accuracy: 0.64\n",
      "Classification Report:\n",
      "               precision    recall  f1-score   support\n",
      "\n",
      "         1.0       0.62      0.77      0.69       194\n",
      "         2.0       0.49      0.46      0.47       197\n",
      "         3.0       0.59      0.57      0.58       228\n",
      "         4.0       0.70      0.63      0.66       191\n",
      "         5.0       0.84      0.81      0.82       190\n",
      "\n",
      "    accuracy                           0.64      1000\n",
      "   macro avg       0.65      0.65      0.65      1000\n",
      "weighted avg       0.64      0.64      0.64      1000\n",
      "\n",
      "Confusion Matrix:\n",
      " [[150  29  13   1   1]\n",
      " [ 63  90  40   4   0]\n",
      " [ 25  51 130  18   4]\n",
      " [  2  10  33 121  25]\n",
      " [  0   2   6  29 153]]\n"
     ]
    }
   ],
   "source": [
    "# Initialize and train the Random Forest classifier\n",
    "rf_classifier = RandomForestClassifier(n_estimators=100, random_state=42, max_depth=None, min_samples_split=2, min_samples_leaf=1)\n",
    "rf_classifier.fit(X_train, y_train)\n",
    "\n",
    "# Predict ratings on the test set\n",
    "y_pred_rf = rf_classifier.predict(X_test)\n",
    "\n",
    "# Calculate and print evaluation metrics\n",
    "accuracy = accuracy_score(y_test, y_pred_rf)\n",
    "classificationReport = classification_report(y_test, y_pred_rf)\n",
    "confusionMatrix = confusion_matrix(y_test, y_pred_rf)\n",
    "\n",
    "print(f\"Accuracy: {accuracy:.2f}\")\n",
    "print(\"Classification Report:\\n\", classificationReport)\n",
    "print(\"Confusion Matrix:\\n\", confusionMatrix)"
   ]
  },
  {
   "cell_type": "markdown",
   "id": "37cc5203",
   "metadata": {},
   "source": [
    "The model performs well on classes 1.0 and 5.0, with relatively high precision, recall, and F1-Score.\n",
    "The model struggles more with classes 2.0, 3.0, and 4.0, where we see lower values for these metrics.\n",
    "There might be some confusion between classes, especially between adjacent classes (e.g., 3.0 and 4.0), which is common in ordinal classification tasks. Hence, in the next part we will try group classes 1 and 2, and 4 and 5 to see how the model now performs."
   ]
  },
  {
   "cell_type": "code",
   "execution_count": 12,
   "id": "9362a7c5",
   "metadata": {},
   "outputs": [],
   "source": [
    "import pandas as pd\n",
    "import numpy as np\n",
    "from sklearn.model_selection import train_test_split\n",
    "from sklearn.ensemble import RandomForestClassifier\n",
    "from sklearn.metrics import accuracy_score, classification_report, confusion_matrix\n"
   ]
  },
  {
   "cell_type": "code",
   "execution_count": null,
   "id": "c9607fa9",
   "metadata": {},
   "outputs": [],
   "source": [
    "#Load dataset\n",
    "df_sample = pd.read_csv('embeddings/sample_embed_reviews.csv')\n",
    "\n",
    "# Convert string representations to actual lists\n",
    "df_sample['ada_embedding'] = df_sample['ada_embedding'].apply(eval)\n",
    "\n",
    "# Convert lists to numpy arrays\n",
    "df_sample['ada_embedding'] = df_sample['ada_embedding'].apply(np.array)"
   ]
  },
  {
   "cell_type": "code",
   "execution_count": 13,
   "id": "c525af74",
   "metadata": {},
   "outputs": [],
   "source": [
    "\n",
    "# Convert embeddings from 'ada_embedding' column into a matrix\n",
    "X = pd.DataFrame(df_sample['ada_embedding'].tolist())\n",
    "\n",
    "# Ratings will be our target variable\n",
    "y = df_sample['Rating out of 5']\n",
    "\n",
    "# Map the original ratings to the new class labels\n",
    "y = y.map({1: 1, 2: 1, 3: 2, 4: 3, 5: 3})\n",
    "\n",
    "# Split data into training and testing sets (80% train, 20% test)\n",
    "X_train, X_test, y_train, y_test = train_test_split(X, y, test_size=0.2, random_state=42)\n"
   ]
  },
  {
   "cell_type": "code",
   "execution_count": 14,
   "id": "3a3f7e30",
   "metadata": {},
   "outputs": [
    {
     "name": "stdout",
     "output_type": "stream",
     "text": [
      "Accuracy: 0.78\n",
      "Classification Report:\n",
      "               precision    recall  f1-score   support\n",
      "\n",
      "           1       0.70      0.94      0.81       391\n",
      "           2       0.78      0.26      0.39       228\n",
      "           3       0.87      0.91      0.89       381\n",
      "\n",
      "    accuracy                           0.78      1000\n",
      "   macro avg       0.78      0.71      0.70      1000\n",
      "weighted avg       0.78      0.78      0.74      1000\n",
      "\n",
      "Confusion Matrix:\n",
      " [[368  10  13]\n",
      " [128  60  40]\n",
      " [ 26   7 348]]\n"
     ]
    }
   ],
   "source": [
    "# Initialize and train the Random Forest classifier\n",
    "rf_classifier = RandomForestClassifier(n_estimators=100, random_state=42, max_depth=None, min_samples_split=2, min_samples_leaf=1)\n",
    "rf_classifier.fit(X_train, y_train)\n",
    "\n",
    "# Predict ratings on the test set\n",
    "y_pred_rf = rf_classifier.predict(X_test)\n",
    "\n",
    "# Calculate and print evaluation metrics\n",
    "accuracy = accuracy_score(y_test, y_pred_rf)\n",
    "classificationReport = classification_report(y_test, y_pred_rf)\n",
    "confusionMatrix = confusion_matrix(y_test, y_pred_rf)\n",
    "\n",
    "print(f\"Accuracy: {accuracy:.2f}\")\n",
    "print(\"Classification Report:\\n\", classificationReport)\n",
    "print(\"Confusion Matrix:\\n\", confusionMatrix)\n"
   ]
  },
  {
   "cell_type": "markdown",
   "id": "63ff0b56",
   "metadata": {},
   "source": [
    "The model has a high overall accuracy, but this is mainly driven by its performance on classes 1 and 3.\n",
    "Class 2 has a low recall, indicating that the model struggles to identify instances of this class.\n",
    "The high precision for class 2 suggests that when the model does predict class 2, it is often correct, but it tends to be overly cautious, resulting in many false negatives. This makes sense as the training dataset is largely imbalanced with many more 1,2 and 4,5 than 3's."
   ]
  }
 ],
 "metadata": {
  "kernelspec": {
   "display_name": "Python 3 (ipykernel)",
   "language": "python",
   "name": "python3"
  },
  "language_info": {
   "codemirror_mode": {
    "name": "ipython",
    "version": 3
   },
   "file_extension": ".py",
   "mimetype": "text/x-python",
   "name": "python",
   "nbconvert_exporter": "python",
   "pygments_lexer": "ipython3",
   "version": "3.9.12"
  }
 },
 "nbformat": 4,
 "nbformat_minor": 5
}
