{
 "cells": [
  {
   "cell_type": "code",
   "execution_count": 22,
   "id": "aa1fca57",
   "metadata": {},
   "outputs": [
    {
     "data": {
      "text/html": [
       "<div>\n",
       "<style scoped>\n",
       "    .dataframe tbody tr th:only-of-type {\n",
       "        vertical-align: middle;\n",
       "    }\n",
       "\n",
       "    .dataframe tbody tr th {\n",
       "        vertical-align: top;\n",
       "    }\n",
       "\n",
       "    .dataframe thead th {\n",
       "        text-align: right;\n",
       "    }\n",
       "</style>\n",
       "<table border=\"1\" class=\"dataframe\">\n",
       "  <thead>\n",
       "    <tr style=\"text-align: right;\">\n",
       "      <th></th>\n",
       "      <th>Uniq Id</th>\n",
       "      <th>Crawl Timestamp</th>\n",
       "      <th>Pageurl</th>\n",
       "      <th>Title</th>\n",
       "      <th>Review Text</th>\n",
       "      <th>Review Color</th>\n",
       "      <th>User Verified</th>\n",
       "      <th>Review Date</th>\n",
       "      <th>Review Useful Count</th>\n",
       "      <th>Configuration Text</th>\n",
       "      <th>Ratting</th>\n",
       "      <th>Declaration Text</th>\n",
       "    </tr>\n",
       "  </thead>\n",
       "  <tbody>\n",
       "    <tr>\n",
       "      <th>0</th>\n",
       "      <td>d63583450415a20094950528ffb4d955</td>\n",
       "      <td>2017-10-26 15:57:14 +0000</td>\n",
       "      <td>https://www.amazon.com/All-New-Amazon-Echo-Dot...</td>\n",
       "      <td>Five Stars</td>\n",
       "      <td>Love the Echo Dot.</td>\n",
       "      <td>Black</td>\n",
       "      <td>Verified Purchase</td>\n",
       "      <td>2017-07-03</td>\n",
       "      <td>NaN</td>\n",
       "      <td>Echo Dot</td>\n",
       "      <td>5.0 out of 5 stars</td>\n",
       "      <td>NaN</td>\n",
       "    </tr>\n",
       "    <tr>\n",
       "      <th>1</th>\n",
       "      <td>dc8e5ca6b44bea1006c8bb85cdca3816</td>\n",
       "      <td>2017-10-26 15:57:14 +0000</td>\n",
       "      <td>https://www.amazon.com/All-New-Amazon-Echo-Dot...</td>\n",
       "      <td>Five Stars</td>\n",
       "      <td>Working just fine.</td>\n",
       "      <td>Black</td>\n",
       "      <td>Verified Purchase</td>\n",
       "      <td>2017-07-12</td>\n",
       "      <td>NaN</td>\n",
       "      <td>Echo Dot</td>\n",
       "      <td>5.0 out of 5 stars</td>\n",
       "      <td>NaN</td>\n",
       "    </tr>\n",
       "    <tr>\n",
       "      <th>2</th>\n",
       "      <td>f3f823996e2317dd65a6235011492b42</td>\n",
       "      <td>2017-10-26 15:57:14 +0000</td>\n",
       "      <td>https://www.amazon.com/All-New-Amazon-Echo-Dot...</td>\n",
       "      <td>Five Stars</td>\n",
       "      <td>I love my Echo Dot</td>\n",
       "      <td>Black</td>\n",
       "      <td>Verified Purchase</td>\n",
       "      <td>2017-08-01</td>\n",
       "      <td>NaN</td>\n",
       "      <td>Echo Dot</td>\n",
       "      <td>5.0 out of 5 stars</td>\n",
       "      <td>NaN</td>\n",
       "    </tr>\n",
       "    <tr>\n",
       "      <th>3</th>\n",
       "      <td>3b6c928e62707a1530c591b897b864d6</td>\n",
       "      <td>2017-10-26 15:57:14 +0000</td>\n",
       "      <td>https://www.amazon.com/All-New-Amazon-Echo-Dot...</td>\n",
       "      <td>Three Stars</td>\n",
       "      <td>Not great speakers</td>\n",
       "      <td>Black</td>\n",
       "      <td>Verified Purchase</td>\n",
       "      <td>2017-10-03</td>\n",
       "      <td>NaN</td>\n",
       "      <td>Echo Dot</td>\n",
       "      <td>3.0 out of 5 stars</td>\n",
       "      <td>NaN</td>\n",
       "    </tr>\n",
       "    <tr>\n",
       "      <th>4</th>\n",
       "      <td>275af85c81c1be55efd706f51a6c7cbe</td>\n",
       "      <td>2017-10-26 15:57:14 +0000</td>\n",
       "      <td>https://www.amazon.com/All-New-Amazon-Echo-Dot...</td>\n",
       "      <td>Five Stars</td>\n",
       "      <td>Great assistant !!</td>\n",
       "      <td>Black</td>\n",
       "      <td>Verified Purchase</td>\n",
       "      <td>2017-07-22</td>\n",
       "      <td>NaN</td>\n",
       "      <td>Echo Dot</td>\n",
       "      <td>5.0 out of 5 stars</td>\n",
       "      <td>NaN</td>\n",
       "    </tr>\n",
       "  </tbody>\n",
       "</table>\n",
       "</div>"
      ],
      "text/plain": [
       "                            Uniq Id            Crawl Timestamp  \\\n",
       "0  d63583450415a20094950528ffb4d955  2017-10-26 15:57:14 +0000   \n",
       "1  dc8e5ca6b44bea1006c8bb85cdca3816  2017-10-26 15:57:14 +0000   \n",
       "2  f3f823996e2317dd65a6235011492b42  2017-10-26 15:57:14 +0000   \n",
       "3  3b6c928e62707a1530c591b897b864d6  2017-10-26 15:57:14 +0000   \n",
       "4  275af85c81c1be55efd706f51a6c7cbe  2017-10-26 15:57:14 +0000   \n",
       "\n",
       "                                             Pageurl        Title  \\\n",
       "0  https://www.amazon.com/All-New-Amazon-Echo-Dot...   Five Stars   \n",
       "1  https://www.amazon.com/All-New-Amazon-Echo-Dot...   Five Stars   \n",
       "2  https://www.amazon.com/All-New-Amazon-Echo-Dot...   Five Stars   \n",
       "3  https://www.amazon.com/All-New-Amazon-Echo-Dot...  Three Stars   \n",
       "4  https://www.amazon.com/All-New-Amazon-Echo-Dot...   Five Stars   \n",
       "\n",
       "          Review Text Review Color      User Verified Review Date  \\\n",
       "0  Love the Echo Dot.        Black  Verified Purchase  2017-07-03   \n",
       "1  Working just fine.        Black  Verified Purchase  2017-07-12   \n",
       "2  I love my Echo Dot        Black  Verified Purchase  2017-08-01   \n",
       "3  Not great speakers        Black  Verified Purchase  2017-10-03   \n",
       "4  Great assistant !!        Black  Verified Purchase  2017-07-22   \n",
       "\n",
       "   Review Useful Count Configuration Text             Ratting Declaration Text  \n",
       "0                  NaN           Echo Dot  5.0 out of 5 stars              NaN  \n",
       "1                  NaN           Echo Dot  5.0 out of 5 stars              NaN  \n",
       "2                  NaN           Echo Dot  5.0 out of 5 stars              NaN  \n",
       "3                  NaN           Echo Dot  3.0 out of 5 stars              NaN  \n",
       "4                  NaN           Echo Dot  5.0 out of 5 stars              NaN  "
      ]
     },
     "execution_count": 22,
     "metadata": {},
     "output_type": "execute_result"
    }
   ],
   "source": [
    "import pandas as pd\n",
    "\n",
    "df_raw=pd.read_csv('raw_amazon_echo_reviews.csv')\n",
    "df_raw.head()"
   ]
  },
  {
   "cell_type": "code",
   "execution_count": 23,
   "id": "7d329904",
   "metadata": {},
   "outputs": [
    {
     "data": {
      "text/plain": [
       "(False, 0)"
      ]
     },
     "execution_count": 23,
     "metadata": {},
     "output_type": "execute_result"
    }
   ],
   "source": [
    "# Check for any empty or missing values in the 'Title' column\n",
    "empty_title = df_raw['Title'].isnull().sum()\n",
    "empty_title_exists = empty_title > 0\n",
    "empty_title_exists, empty_title"
   ]
  },
  {
   "cell_type": "code",
   "execution_count": 24,
   "id": "96f15c45",
   "metadata": {},
   "outputs": [
    {
     "data": {
      "text/plain": [
       "(True, 13)"
      ]
     },
     "execution_count": 24,
     "metadata": {},
     "output_type": "execute_result"
    }
   ],
   "source": [
    "# Check for any empty or missing values in the 'Review Text' column\n",
    "empty_title = df_raw['Review Text'].isnull().sum()\n",
    "empty_title_exists = empty_title > 0\n",
    "empty_title_exists, empty_title"
   ]
  },
  {
   "cell_type": "code",
   "execution_count": 25,
   "id": "4ccbbe79",
   "metadata": {},
   "outputs": [
    {
     "data": {
      "text/plain": [
       "0                           Five Stars. Love the Echo Dot.\n",
       "1                           Five Stars. Working just fine.\n",
       "2                           Five Stars. I love my Echo Dot\n",
       "3                          Three Stars. Not great speakers\n",
       "4                           Five Stars. Great assistant !!\n",
       "                               ...                        \n",
       "53043    Much better than I expected. Much better than ...\n",
       "53044    Bummer, didnt even make it through its voice t...\n",
       "53045    Alexa - hard to stop at just one. Once you get...\n",
       "53046    Just beginning to find out what this can do, ....\n",
       "53047    It's fun to play with. It's fun to play with. ...\n",
       "Name: Complete_Review, Length: 53048, dtype: object"
      ]
     },
     "execution_count": 25,
     "metadata": {},
     "output_type": "execute_result"
    }
   ],
   "source": [
    "#Join 'Title' and 'Review Text' columns. Separate each one with a full stop as often a lot of information was in the title.\n",
    "#Using a full stop is the best punctation type to separete the title and review (often the title is just a continuation from the review)\n",
    "\n",
    "df_raw['Complete_Review'] = df_raw.apply(\n",
    "    lambda row: row['Title'] if pd.isnull(row['Review Text']) \n",
    "    else f\"{row['Title']}{'.' if not row['Title'].endswith('.') else ''} {row['Review Text']}\", \n",
    "    axis=1\n",
    ")\n",
    "\n",
    "# Display some rows\n",
    "df_raw['Complete_Review']"
   ]
  },
  {
   "cell_type": "code",
   "execution_count": 26,
   "id": "b6957a86",
   "metadata": {},
   "outputs": [
    {
     "data": {
      "text/plain": [
       "\"Bummer, didnt even make it through its voice trials. What a shame, I tried one my friend has and was really excited. When I got mine I tried the voice training and it heard 3 out of 16 commands. I may give it another shot but it's already packed back up in it's box to be returned. My girlfriend doesn't listen to me for free lol.\""
      ]
     },
     "execution_count": 26,
     "metadata": {},
     "output_type": "execute_result"
    }
   ],
   "source": [
    "#Example review\n",
    "df_raw['Complete_Review'][53044]"
   ]
  },
  {
   "cell_type": "code",
   "execution_count": 27,
   "id": "3ac96930",
   "metadata": {},
   "outputs": [
    {
     "data": {
      "text/plain": [
       "(False, 0)"
      ]
     },
     "execution_count": 27,
     "metadata": {},
     "output_type": "execute_result"
    }
   ],
   "source": [
    "# Check for any empty or missing values in the 'Ratting' column\n",
    "empty_ratting = df_raw['Ratting'].isnull().sum()\n",
    "empty_ratting_exists = empty_ratting > 0\n",
    "empty_ratting_exists, empty_ratting\n"
   ]
  },
  {
   "cell_type": "code",
   "execution_count": 29,
   "id": "b4dad491",
   "metadata": {},
   "outputs": [
    {
     "data": {
      "text/plain": [
       "array(['5.0 out of 5 stars', '3.0 out of 5 stars', '4.0 out of 5 stars',\n",
       "       '1.0 out of 5 stars', '2.0 out of 5 stars'], dtype=object)"
      ]
     },
     "execution_count": 29,
     "metadata": {},
     "output_type": "execute_result"
    }
   ],
   "source": [
    "#We have 5 classes\n",
    "df_raw['Ratting'].unique()"
   ]
  },
  {
   "cell_type": "code",
   "execution_count": 30,
   "id": "6dd19e22",
   "metadata": {},
   "outputs": [
    {
     "data": {
      "text/plain": [
       "0        5.0\n",
       "1        5.0\n",
       "2        5.0\n",
       "3        3.0\n",
       "4        5.0\n",
       "        ... \n",
       "53043    5.0\n",
       "53044    2.0\n",
       "53045    5.0\n",
       "53046    3.0\n",
       "53047    3.0\n",
       "Name: Rating out of 5, Length: 53048, dtype: float64"
      ]
     },
     "execution_count": 30,
     "metadata": {},
     "output_type": "execute_result"
    }
   ],
   "source": [
    "# Rename 'Ratting' column to 'Rating out of 5'\n",
    "df_raw.rename(columns={'Ratting': 'Rating out of 5'}, inplace=True)\n",
    "\n",
    "# Keep only the first three characters and convert them to float\n",
    "df_raw['Rating out of 5'] = df_raw['Rating out of 5'].astype(str).str[:3].astype(float)\n",
    "\n",
    "# Display some elements\n",
    "df_raw['Rating out of 5']\n"
   ]
  },
  {
   "cell_type": "code",
   "execution_count": 31,
   "id": "7d14acf2",
   "metadata": {},
   "outputs": [
    {
     "data": {
      "image/png": "[encoded data removed]",
      "text/plain": [
       "<Figure size 576x432 with 1 Axes>"
      ]
     },
     "metadata": {
      "needs_background": "light"
     },
     "output_type": "display_data"
    }
   ],
   "source": [
    "import matplotlib.pyplot as plt\n",
    "\n",
    "# Plot a histogram for the distribution of ratings\n",
    "plt.figure(figsize=(8, 6))\n",
    "df_raw['Rating out of 5'].value_counts().sort_index().plot(kind='bar', color='skyblue', edgecolor='black')\n",
    "plt.title('Distribution of Ratings (1-5)')\n",
    "plt.xlabel('Rating out of 5')\n",
    "plt.ylabel('Count')\n",
    "plt.xticks(rotation=0)\n",
    "plt.grid(axis='y')\n",
    "\n",
    "plt.tight_layout()\n",
    "plt.show()\n"
   ]
  },
  {
   "cell_type": "code",
   "execution_count": 32,
   "id": "df77116a",
   "metadata": {},
   "outputs": [
    {
     "data": {
      "text/plain": [
       "Echo Dot                                     53039\n",
       "Echo Dot + Sony XB10 Speaker                     6\n",
       "Echo Dot + Philips Hue Smart Lighting Kit        2\n",
       "Echo Dot + Vaux Speaker                          1\n",
       "Name: Configuration Text, dtype: int64"
      ]
     },
     "execution_count": 32,
     "metadata": {},
     "output_type": "execute_result"
    }
   ],
   "source": [
    "# Count the occurrences of each unique configuration\n",
    "configurations_count = df_raw['Configuration Text'].value_counts()\n",
    "\n",
    "#Demonstrates most of them are simply the Echo Dot\n",
    "configurations_count\n"
   ]
  },
  {
   "cell_type": "code",
   "execution_count": null,
   "id": "7b28863b",
   "metadata": {},
   "outputs": [],
   "source": []
  },
  {
   "cell_type": "code",
   "execution_count": 33,
   "id": "870928b6",
   "metadata": {},
   "outputs": [
    {
     "data": {
      "text/html": [
       "<div>\n",
       "<style scoped>\n",
       "    .dataframe tbody tr th:only-of-type {\n",
       "        vertical-align: middle;\n",
       "    }\n",
       "\n",
       "    .dataframe tbody tr th {\n",
       "        vertical-align: top;\n",
       "    }\n",
       "\n",
       "    .dataframe thead th {\n",
       "        text-align: right;\n",
       "    }\n",
       "</style>\n",
       "<table border=\"1\" class=\"dataframe\">\n",
       "  <thead>\n",
       "    <tr style=\"text-align: right;\">\n",
       "      <th></th>\n",
       "      <th>Uniq Id</th>\n",
       "      <th>Pageurl</th>\n",
       "      <th>Complete_Review</th>\n",
       "      <th>Rating out of 5</th>\n",
       "    </tr>\n",
       "  </thead>\n",
       "  <tbody>\n",
       "    <tr>\n",
       "      <th>0</th>\n",
       "      <td>d63583450415a20094950528ffb4d955</td>\n",
       "      <td>https://www.amazon.com/All-New-Amazon-Echo-Dot...</td>\n",
       "      <td>Five Stars. Love the Echo Dot.</td>\n",
       "      <td>5.0</td>\n",
       "    </tr>\n",
       "    <tr>\n",
       "      <th>1</th>\n",
       "      <td>dc8e5ca6b44bea1006c8bb85cdca3816</td>\n",
       "      <td>https://www.amazon.com/All-New-Amazon-Echo-Dot...</td>\n",
       "      <td>Five Stars. Working just fine.</td>\n",
       "      <td>5.0</td>\n",
       "    </tr>\n",
       "    <tr>\n",
       "      <th>2</th>\n",
       "      <td>f3f823996e2317dd65a6235011492b42</td>\n",
       "      <td>https://www.amazon.com/All-New-Amazon-Echo-Dot...</td>\n",
       "      <td>Five Stars. I love my Echo Dot</td>\n",
       "      <td>5.0</td>\n",
       "    </tr>\n",
       "    <tr>\n",
       "      <th>3</th>\n",
       "      <td>3b6c928e62707a1530c591b897b864d6</td>\n",
       "      <td>https://www.amazon.com/All-New-Amazon-Echo-Dot...</td>\n",
       "      <td>Three Stars. Not great speakers</td>\n",
       "      <td>3.0</td>\n",
       "    </tr>\n",
       "    <tr>\n",
       "      <th>4</th>\n",
       "      <td>275af85c81c1be55efd706f51a6c7cbe</td>\n",
       "      <td>https://www.amazon.com/All-New-Amazon-Echo-Dot...</td>\n",
       "      <td>Five Stars. Great assistant !!</td>\n",
       "      <td>5.0</td>\n",
       "    </tr>\n",
       "    <tr>\n",
       "      <th>...</th>\n",
       "      <td>...</td>\n",
       "      <td>...</td>\n",
       "      <td>...</td>\n",
       "      <td>...</td>\n",
       "    </tr>\n",
       "    <tr>\n",
       "      <th>53043</th>\n",
       "      <td>fe90704851650044bbf2fba7cc652611</td>\n",
       "      <td>https://www.amazon.com/All-New-Amazon-Echo-Dot...</td>\n",
       "      <td>Much better than I expected. Much better than ...</td>\n",
       "      <td>5.0</td>\n",
       "    </tr>\n",
       "    <tr>\n",
       "      <th>53044</th>\n",
       "      <td>49fb7433b27df684bef0a82a8e0fab55</td>\n",
       "      <td>https://www.amazon.com/All-New-Amazon-Echo-Dot...</td>\n",
       "      <td>Bummer, didnt even make it through its voice t...</td>\n",
       "      <td>2.0</td>\n",
       "    </tr>\n",
       "    <tr>\n",
       "      <th>53045</th>\n",
       "      <td>dfa6e3366d5fffa541fe6cdf0d284f91</td>\n",
       "      <td>https://www.amazon.com/All-New-Amazon-Echo-Dot...</td>\n",
       "      <td>Alexa - hard to stop at just one. Once you get...</td>\n",
       "      <td>5.0</td>\n",
       "    </tr>\n",
       "    <tr>\n",
       "      <th>53046</th>\n",
       "      <td>d74d55030164eff4f37139daf4627a2f</td>\n",
       "      <td>https://www.amazon.com/All-New-Amazon-Echo-Dot...</td>\n",
       "      <td>Just beginning to find out what this can do, ....</td>\n",
       "      <td>3.0</td>\n",
       "    </tr>\n",
       "    <tr>\n",
       "      <th>53047</th>\n",
       "      <td>519b0ae611953d249a3e12040eaf5d74</td>\n",
       "      <td>https://www.amazon.com/All-New-Amazon-Echo-Dot...</td>\n",
       "      <td>It's fun to play with. It's fun to play with. ...</td>\n",
       "      <td>3.0</td>\n",
       "    </tr>\n",
       "  </tbody>\n",
       "</table>\n",
       "<p>53048 rows × 4 columns</p>\n",
       "</div>"
      ],
      "text/plain": [
       "                                Uniq Id  \\\n",
       "0      d63583450415a20094950528ffb4d955   \n",
       "1      dc8e5ca6b44bea1006c8bb85cdca3816   \n",
       "2      f3f823996e2317dd65a6235011492b42   \n",
       "3      3b6c928e62707a1530c591b897b864d6   \n",
       "4      275af85c81c1be55efd706f51a6c7cbe   \n",
       "...                                 ...   \n",
       "53043  fe90704851650044bbf2fba7cc652611   \n",
       "53044  49fb7433b27df684bef0a82a8e0fab55   \n",
       "53045  dfa6e3366d5fffa541fe6cdf0d284f91   \n",
       "53046  d74d55030164eff4f37139daf4627a2f   \n",
       "53047  519b0ae611953d249a3e12040eaf5d74   \n",
       "\n",
       "                                                 Pageurl  \\\n",
       "0      https://www.amazon.com/All-New-Amazon-Echo-Dot...   \n",
       "1      https://www.amazon.com/All-New-Amazon-Echo-Dot...   \n",
       "2      https://www.amazon.com/All-New-Amazon-Echo-Dot...   \n",
       "3      https://www.amazon.com/All-New-Amazon-Echo-Dot...   \n",
       "4      https://www.amazon.com/All-New-Amazon-Echo-Dot...   \n",
       "...                                                  ...   \n",
       "53043  https://www.amazon.com/All-New-Amazon-Echo-Dot...   \n",
       "53044  https://www.amazon.com/All-New-Amazon-Echo-Dot...   \n",
       "53045  https://www.amazon.com/All-New-Amazon-Echo-Dot...   \n",
       "53046  https://www.amazon.com/All-New-Amazon-Echo-Dot...   \n",
       "53047  https://www.amazon.com/All-New-Amazon-Echo-Dot...   \n",
       "\n",
       "                                         Complete_Review  Rating out of 5  \n",
       "0                         Five Stars. Love the Echo Dot.              5.0  \n",
       "1                         Five Stars. Working just fine.              5.0  \n",
       "2                         Five Stars. I love my Echo Dot              5.0  \n",
       "3                        Three Stars. Not great speakers              3.0  \n",
       "4                         Five Stars. Great assistant !!              5.0  \n",
       "...                                                  ...              ...  \n",
       "53043  Much better than I expected. Much better than ...              5.0  \n",
       "53044  Bummer, didnt even make it through its voice t...              2.0  \n",
       "53045  Alexa - hard to stop at just one. Once you get...              5.0  \n",
       "53046  Just beginning to find out what this can do, ....              3.0  \n",
       "53047  It's fun to play with. It's fun to play with. ...              3.0  \n",
       "\n",
       "[53048 rows x 4 columns]"
      ]
     },
     "execution_count": 33,
     "metadata": {},
     "output_type": "execute_result"
    }
   ],
   "source": [
    "df = df_raw[['Uniq Id', 'Pageurl', 'Complete_Review', 'Rating out of 5']]\n",
    "df"
   ]
  },
  {
   "cell_type": "code",
   "execution_count": 34,
   "id": "5dd69c57",
   "metadata": {},
   "outputs": [],
   "source": [
    "#Save df to csv\n",
    "df.to_csv(\"processed_amazon_echo_reviews.csv\", index=False)"
   ]
  },
  {
   "cell_type": "code",
   "execution_count": null,
   "id": "c23b35d2",
   "metadata": {},
   "outputs": [],
   "source": []
  }
 ],
 "metadata": {
  "kernelspec": {
   "display_name": "Python 3 (ipykernel)",
   "language": "python",
   "name": "python3"
  },
  "language_info": {
   "codemirror_mode": {
    "name": "ipython",
    "version": 3
   },
   "file_extension": ".py",
   "mimetype": "text/x-python",
   "name": "python",
   "nbconvert_exporter": "python",
   "pygments_lexer": "ipython3",
   "version": "3.9.12"
  }
 },
 "nbformat": 4,
 "nbformat_minor": 5
}
